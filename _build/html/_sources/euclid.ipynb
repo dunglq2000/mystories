{
 "cells": [
  {
   "cell_type": "markdown",
   "metadata": {},
   "source": [
    "Giả sử $\\bm{x} \\in \\mathcal{V}$."
   ]
  }
 ],
 "metadata": {
  "language_info": {
   "name": "python"
  }
 },
 "nbformat": 4,
 "nbformat_minor": 2
}
